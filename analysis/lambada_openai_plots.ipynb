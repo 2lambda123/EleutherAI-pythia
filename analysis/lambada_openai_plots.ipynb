{
 "cells": [
  {
   "cell_type": "code",
   "execution_count": 1,
   "metadata": {},
   "outputs": [],
   "source": [
    "import os\n",
    "files = os.listdir('../../pythia/results/bias-evals/')"
   ]
  },
  {
   "cell_type": "code",
   "execution_count": 2,
   "metadata": {},
   "outputs": [],
   "source": [
    "import json\n",
    "def read_file(f):\n",
    "    with open('../../pythia/results/bias-evals/' + f, 'r') as f:\n",
    "        return json.load(f)"
   ]
  },
  {
   "cell_type": "code",
   "execution_count": 3,
   "metadata": {},
   "outputs": [],
   "source": [
    "def parse_json(f):\n",
    "    data = read_file(f)\n",
    "    # get all values where key contains 'english' in a new dict \n",
    "    english = {k: v for k, v in data['results'].items() if 'english' in k}\n",
    "    # get only the pct_stereotype key from the new dict\n",
    "    english = {k: v['pct_stereotype'] for k, v in english.items()}\n",
    "    return english"
   ]
  },
  {
   "cell_type": "code",
   "execution_count": 5,
   "metadata": {},
   "outputs": [],
   "source": [
    "x = read_file(r'pythia-1.3b-deduped-step69000_eval_results_01-22-2023-09-20-33.json')"
   ]
  },
  {
   "cell_type": "code",
   "execution_count": 8,
   "metadata": {},
   "outputs": [
    {
     "data": {
      "text/plain": [
       "dict_keys(['results', 'versions', 'config'])"
      ]
     },
     "execution_count": 8,
     "metadata": {},
     "output_type": "execute_result"
    }
   ],
   "source": [
    "x.keys()"
   ]
  },
  {
   "cell_type": "code",
   "execution_count": 11,
   "metadata": {},
   "outputs": [],
   "source": [
    "pythia_files = []\n",
    "intervened_files = []\n",
    "long_intervened_files = []\n",
    "for f in files:\n",
    "  if f.startswith('pythia'):\n",
    "    pythia_files.append(f)\n",
    "  elif f.startswith('intervention'):\n",
    "    intervened_files.append(f)\n",
    "  elif f.startswith('long-intervention'):\n",
    "    long_intervened_files.append(f)"
   ]
  },
  {
   "cell_type": "code",
   "execution_count": 19,
   "metadata": {},
   "outputs": [],
   "source": [
    "x = read_file(r'pythia-1.3b-deduped-step68000_eval_results_01-22-2023-09-17-24.json')"
   ]
  },
  {
   "cell_type": "code",
   "execution_count": 14,
   "metadata": {},
   "outputs": [
    {
     "name": "stdout",
     "output_type": "stream",
     "text": [
      "pythia-1.3b-deduped-step67000_eval_results_01-22-2023-09-14-16.json\n",
      "pythia-1.3b-deduped-step67500_eval_results_01-22-2023-09-15-51.json\n",
      "pythia-1.3b-deduped-step68000_eval_results_01-22-2023-09-17-24.json\n",
      "pythia-1.3b-deduped-step68500_eval_results_01-22-2023-09-18-58.json\n",
      "pythia-1.3b-deduped-step69000_eval_results_01-22-2023-09-20-33.json\n",
      "pythia-1.3b-deduped-step69500_eval_results_01-22-2023-09-22-17.json\n",
      "pythia-1.3b-deduped-step70000_eval_results_01-22-2023-09-23-52.json\n",
      "pythia-1.3b-deduped-step70500_eval_results_01-22-2023-09-25-25.json\n",
      "pythia-1.3b-deduped-step71000_eval_results_01-22-2023-12-36-26.json\n",
      "pythia-350m-deduped-step66500_eval_results_01-23-2023-09-53-23.json\n",
      "pythia-350m-deduped-step67000_eval_results_01-23-2023-09-54-19.json\n",
      "pythia-350m-deduped-step67500_eval_results_01-23-2023-09-55-14.json\n",
      "pythia-350m-deduped-step68000_eval_results_01-23-2023-09-56-08.json\n",
      "pythia-350m-deduped-step68500_eval_results_01-23-2023-09-56-59.json\n",
      "pythia-350m-deduped-step69000_eval_results_01-23-2023-09-57-50.json\n",
      "pythia-350m-deduped-step69500_eval_results_01-23-2023-09-58-51.json\n",
      "pythia-350m-deduped-step70000_eval_results_01-23-2023-09-59-40.json\n",
      "pythia-350m-deduped-step70500_eval_results_01-23-2023-10-00-35.json\n",
      "pythia-350m-deduped-step71000_eval_results_01-23-2023-10-01-26.json\n",
      "pythia-350m-deduped-step71500_eval_results_01-23-2023-10-02-16.json\n"
     ]
    }
   ],
   "source": [
    "for file in files:\n",
    "    x = read_file(file)\n",
    "    if 'lambada_openai' not in x['results'].keys():\n",
    "        print(file)"
   ]
  },
  {
   "cell_type": "code",
   "execution_count": 16,
   "metadata": {},
   "outputs": [
    {
     "name": "stdout",
     "output_type": "stream",
     "text": [
      "pythia-1.3b-deduped-step11500_eval_results_01-20-2023-14-41-42.json\n",
      "pythia-1.3b-deduped-step1500_eval_results_01-20-2023-14-42-09.json\n",
      "pythia-1.3b-deduped-step16500_eval_results_01-20-2023-14-44-09.json\n",
      "pythia-1.3b-deduped-step21500_eval_results_01-20-2023-14-44-57.json\n",
      "pythia-1.3b-deduped-step26500_eval_results_01-20-2023-14-44-19.json\n",
      "pythia-1.3b-deduped-step31500_eval_results_01-20-2023-14-46-00.json\n",
      "pythia-1.3b-deduped-step36500_eval_results_01-20-2023-14-46-48.json\n",
      "pythia-1.3b-deduped-step41500_eval_results_01-20-2023-15-13-30.json\n",
      "pythia-1.3b-deduped-step46500_eval_results_01-20-2023-14-49-13.json\n",
      "pythia-1.3b-deduped-step51500_eval_results_01-20-2023-14-49-21.json\n",
      "pythia-1.3b-deduped-step56500_eval_results_01-20-2023-14-50-08.json\n",
      "pythia-1.3b-deduped-step61500_eval_results_01-20-2023-14-50-46.json\n",
      "pythia-1.3b-deduped-step6500_eval_results_01-20-2023-14-41-33.json\n",
      "pythia-1.3b-deduped-step66500_eval_results_01-20-2023-15-13-13.json\n",
      "pythia-1.3b-deduped-step67000_eval_results_01-22-2023-09-14-16.json\n",
      "pythia-1.3b-deduped-step67500_eval_results_01-22-2023-09-15-51.json\n",
      "pythia-1.3b-deduped-step68000_eval_results_01-22-2023-09-17-24.json\n",
      "pythia-1.3b-deduped-step68500_eval_results_01-22-2023-09-18-58.json\n",
      "pythia-1.3b-deduped-step69000_eval_results_01-22-2023-09-20-33.json\n",
      "pythia-1.3b-deduped-step69500_eval_results_01-22-2023-09-22-17.json\n",
      "pythia-1.3b-deduped-step70000_eval_results_01-22-2023-09-23-52.json\n",
      "pythia-1.3b-deduped-step70500_eval_results_01-22-2023-09-25-25.json\n",
      "pythia-1.3b-deduped-step71000_eval_results_01-22-2023-12-36-26.json\n",
      "pythia-1.3b-deduped-step71500_eval_results_01-20-2023-15-13-07.json\n"
     ]
    }
   ],
   "source": [
    "for file in files:\n",
    "    if '1.3b' in file and 'pythia' in file:\n",
    "        print(file)"
   ]
  },
  {
   "cell_type": "code",
   "execution_count": null,
   "metadata": {},
   "outputs": [],
   "source": []
  }
 ],
 "metadata": {
  "kernelspec": {
   "display_name": "Python 3",
   "language": "python",
   "name": "python3"
  },
  "language_info": {
   "codemirror_mode": {
    "name": "ipython",
    "version": 3
   },
   "file_extension": ".py",
   "mimetype": "text/x-python",
   "name": "python",
   "nbconvert_exporter": "python",
   "pygments_lexer": "ipython3",
   "version": "3.9.13"
  },
  "orig_nbformat": 4,
  "vscode": {
   "interpreter": {
    "hash": "a5a87ee616be0254e3f1af9223138e3faeac65b2c9d91bc22a9fc5a4a8bd8eb0"
   }
  }
 },
 "nbformat": 4,
 "nbformat_minor": 2
}
