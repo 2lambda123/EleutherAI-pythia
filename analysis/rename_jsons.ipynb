{
 "cells": [
  {
   "cell_type": "code",
   "execution_count": 9,
   "metadata": {},
   "outputs": [],
   "source": [
    "import os\n",
    "files = os.listdir('../../pythia/results/bias-evals/')"
   ]
  },
  {
   "cell_type": "code",
   "execution_count": 10,
   "metadata": {},
   "outputs": [],
   "source": [
    "pythia_files = []\n",
    "intervened_files = []\n",
    "long_intervened_files = []\n",
    "for f in files:\n",
    "  if 'pythia' in f:\n",
    "    pythia_files.append(f)\n",
    "  elif 'intervention' in f:\n",
    "    intervened_files.append(f)\n",
    "  elif 'long-intervention' in f:\n",
    "    long_intervened_files.append(f)"
   ]
  },
  {
   "cell_type": "code",
   "execution_count": 28,
   "metadata": {},
   "outputs": [
    {
     "name": "stdout",
     "output_type": "stream",
     "text": [
      "new-pythia-1.3b-deduped-step67000_eval_results_01-24-2023-17-07-16.json\n",
      "pythia-1.3b-deduped-step67000_eval_results_01-22-2023-09-14-16.json\n",
      "new-pythia-1.3b-deduped-step67000_eval_results_01-24-2023-17-07-16.json\n"
     ]
    },
    {
     "ename": "FileNotFoundError",
     "evalue": "[WinError 2] The system cannot find the file specified: '../../pythia/results/bias-evals/new-pythia-1.3b-deduped-step67000_eval_results_01-24-2023-17-07-16.json' -> '../../pythia/results/bias-evals/pythia-1.3b-deduped-step67000_eval_results_01-22-2023-09-14-16.json'",
     "output_type": "error",
     "traceback": [
      "\u001b[1;31m---------------------------------------------------------------------------\u001b[0m",
      "\u001b[1;31mFileNotFoundError\u001b[0m                         Traceback (most recent call last)",
      "\u001b[1;32md:\\Desktop\\pythia\\analysis\\rename_jsons.ipynb Cell 3\u001b[0m in \u001b[0;36m<module>\u001b[1;34m\u001b[0m\n\u001b[0;32m     <a href='vscode-notebook-cell:/d%3A/Desktop/pythia/analysis/rename_jsons.ipynb#W2sZmlsZQ%3D%3D?line=10'>11</a>\u001b[0m         \u001b[39mprint\u001b[39m(sub_file)\n\u001b[0;32m     <a href='vscode-notebook-cell:/d%3A/Desktop/pythia/analysis/rename_jsons.ipynb#W2sZmlsZQ%3D%3D?line=11'>12</a>\u001b[0m         \u001b[39mprint\u001b[39m(file)\n\u001b[1;32m---> <a href='vscode-notebook-cell:/d%3A/Desktop/pythia/analysis/rename_jsons.ipynb#W2sZmlsZQ%3D%3D?line=12'>13</a>\u001b[0m         os\u001b[39m.\u001b[39;49mrename(\u001b[39m'\u001b[39;49m\u001b[39m../../pythia/results/bias-evals/\u001b[39;49m\u001b[39m'\u001b[39;49m \u001b[39m+\u001b[39;49m file, \u001b[39m'\u001b[39;49m\u001b[39m../../pythia/results/bias-evals/\u001b[39;49m\u001b[39m'\u001b[39;49m \u001b[39m+\u001b[39;49m sub_file)\n\u001b[0;32m     <a href='vscode-notebook-cell:/d%3A/Desktop/pythia/analysis/rename_jsons.ipynb#W2sZmlsZQ%3D%3D?line=13'>14</a>\u001b[0m         \u001b[39mbreak\u001b[39;00m\n\u001b[0;32m     <a href='vscode-notebook-cell:/d%3A/Desktop/pythia/analysis/rename_jsons.ipynb#W2sZmlsZQ%3D%3D?line=14'>15</a>\u001b[0m \u001b[39mbreak\u001b[39;00m\n",
      "\u001b[1;31mFileNotFoundError\u001b[0m: [WinError 2] The system cannot find the file specified: '../../pythia/results/bias-evals/new-pythia-1.3b-deduped-step67000_eval_results_01-24-2023-17-07-16.json' -> '../../pythia/results/bias-evals/pythia-1.3b-deduped-step67000_eval_results_01-22-2023-09-14-16.json'"
     ]
    }
   ],
   "source": [
    "for file in pythia_files:\n",
    "    if 'new' in file:\n",
    "        name_split = file.split('-')\n",
    "        print(file)\n",
    "        for file_without_new_in_name in files:\n",
    "            sub_name_split = file_without_new_in_name.split('-')\n",
    "            if name_split[1:5] == sub_name_split[:4]:\n",
    "                # Delete the original file\n",
    "                os.remove('../../pythia/results/bias-evals/' + file_without_new_in_name)\n",
    "                # Rename the sub_file to the original file name\n",
    "                os.rename('../../pythia/results/bias-evals/' + file, '../../pythia/results/bias-evals/' + file_without_new_in_name)\n",
    "                break\n",
    "        break"
   ]
  },
  {
   "cell_type": "code",
   "execution_count": 12,
   "metadata": {},
   "outputs": [],
   "source": [
    "# for file in intervened_files:\n",
    "#     if 'deduped' not in file:\n",
    "#         print(\"old\", file)\n",
    "#         name_split = file.split('-')\n",
    "#         new_name = name_split[:2] + ['deduped'] + name_split[2:]\n",
    "#         new_name = '-'.join(new_name)\n",
    "#         print(\"new\", new_name)\n",
    "#         os.rename('../../pythia/results/bias-evals/' + file, '../../pythia/results/bias-evals/' + new_name)"
   ]
  },
  {
   "cell_type": "code",
   "execution_count": 13,
   "metadata": {},
   "outputs": [],
   "source": [
    "# for f in pythia_files:\n",
    "#     if 'deduped' not in f:\n",
    "#         print(\"Old\", f)\n",
    "#         name_split = f.split('-')\n",
    "#         if name_split[0] == 'new':\n",
    "#             new_name = name_split[:3] + ['deduped'] + name_split[3:]\n",
    "#         else:\n",
    "#             new_name = name_split[:2] + ['deduped'] + name_split[2:]\n",
    "#         # print(\"New\", \"-\".join(new_name))\n",
    "#         os.rename('../../pythia/results/bias-evals/' + f, '../../pythia/results/bias-evals/' + \"-\".join(new_name))"
   ]
  },
  {
   "cell_type": "code",
   "execution_count": null,
   "metadata": {},
   "outputs": [],
   "source": []
  }
 ],
 "metadata": {
  "kernelspec": {
   "display_name": "Python 3",
   "language": "python",
   "name": "python3"
  },
  "language_info": {
   "codemirror_mode": {
    "name": "ipython",
    "version": 3
   },
   "file_extension": ".py",
   "mimetype": "text/x-python",
   "name": "python",
   "nbconvert_exporter": "python",
   "pygments_lexer": "ipython3",
   "version": "3.9.13"
  },
  "orig_nbformat": 4,
  "vscode": {
   "interpreter": {
    "hash": "a5a87ee616be0254e3f1af9223138e3faeac65b2c9d91bc22a9fc5a4a8bd8eb0"
   }
  }
 },
 "nbformat": 4,
 "nbformat_minor": 2
}
