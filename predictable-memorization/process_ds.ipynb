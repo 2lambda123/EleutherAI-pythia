{
 "cells": [
  {
   "cell_type": "code",
   "execution_count": 1,
   "metadata": {},
   "outputs": [],
   "source": [
    "import numpy as np\n",
    "\n",
    "# add parent directory to path\n",
    "import os, sys\n",
    "sys.path.append('..')\n",
    "\n",
    "from utils.mmap_dataset import MMapIndexedDataset\n",
    "import dask\n",
    "import dask.array as da\n",
    "from transformers import GPTNeoXForCausalLM, AutoTokenizer\n",
    "import matplotlib.pyplot as plt\n",
    "from dask.diagnostics import ProgressBar"
   ]
  },
  {
   "cell_type": "code",
   "execution_count": 2,
   "metadata": {},
   "outputs": [],
   "source": [
    "x0 = np.random.randint(0, 10, size=(30000, 100))\n",
    "x1 = x0[:10, :5]\n",
    "def match(a, b):\n",
    "    matches = np.empty([a.shape[0], b.shape[0]], dtype=bool)\n",
    "    matches.fill(False)\n",
    "    # return np.dot(a,b.T).reshape(1, 1, 1, 1)\n",
    "    for i in range(b.shape[1] - a.shape[1]):\n",
    "        matches = np.logical_or(matches,\n",
    "                                np.max(np.abs(np.expand_dims(a, axis=1) - b[:, i:i+a.shape[1]]), axis=-1) == 0)\n",
    "    return np.expand_dims(np.expand_dims(matches, -1), -1)\n",
    "x0 = da.from_array(x0, chunks=(500, 100))\n",
    "x1 = da.from_array(x1, chunks=(5, 5))\n",
    "res = da.blockwise(match, 'ijab', x1, 'ia', x0, 'jb', dtype=int, \n",
    "                   adjust_chunks={'a': 1, 'b': 1})"
   ]
  },
  {
   "cell_type": "code",
   "execution_count": 3,
   "metadata": {},
   "outputs": [],
   "source": [
    "ProgressBar().register()"
   ]
  },
  {
   "cell_type": "code",
   "execution_count": 4,
   "metadata": {},
   "outputs": [
    {
     "name": "stdout",
     "output_type": "stream",
     "text": [
      "[                                        ] | 0% Completed | 331.10 us"
     ]
    },
    {
     "name": "stdout",
     "output_type": "stream",
     "text": [
      "[########################################] | 100% Completed | 1.80 sms\n"
     ]
    }
   ],
   "source": [
    "result = res.compute()"
   ]
  },
  {
   "cell_type": "code",
   "execution_count": 6,
   "metadata": {},
   "outputs": [
    {
     "data": {
      "text/plain": [
       "(10, 30000)"
      ]
     },
     "execution_count": 6,
     "metadata": {},
     "output_type": "execute_result"
    }
   ],
   "source": [
    "result.squeeze().shape"
   ]
  },
  {
   "cell_type": "code",
   "execution_count": 2,
   "metadata": {},
   "outputs": [
    {
     "name": "stdout",
     "output_type": "stream",
     "text": [
      "    reading sizes...\n",
      "    reading pointers...\n",
      "    reading document index...\n",
      "    creating numpy buffer of mmap...\n",
      "    creating memory view of numpy buffer...\n"
     ]
    }
   ],
   "source": [
    "\n",
    "dataset = MMapIndexedDataset('/om/user/sunnyd/data/datasets--EleutherAI--pile-standard-pythia-preshuffled-merged/document', skip_warmup = True)"
   ]
  },
  {
   "cell_type": "code",
   "execution_count": 4,
   "metadata": {},
   "outputs": [],
   "source": [
    "def load_chunk(idx, blocksize):\n",
    "    return dataset[idx*blocksize:(idx+1)*blocksize]\n",
    "\n",
    "def mmap_dask_array(blocksize=1000):\n",
    "    load = dask.delayed(load_chunk)\n",
    "    chunks = []\n",
    "    for index in range(0, len(dataset), blocksize):\n",
    "        # Truncate the last chunk if necessary\n",
    "        chunk_size = min(blocksize, len(dataset) - index)\n",
    "        chunk = dask.array.from_delayed(\n",
    "            load(index, chunk_size),\n",
    "            shape=(chunk_size, 2049),\n",
    "            dtype=dataset[0].dtype\n",
    "        )\n",
    "        chunks.append(chunk)\n",
    "    return da.concatenate(chunks, axis=0)\n",
    "\n",
    "x = mmap_dask_array(100000)"
   ]
  },
  {
   "cell_type": "code",
   "execution_count": 41,
   "metadata": {},
   "outputs": [
    {
     "data": {
      "text/html": [
       "<table>\n",
       "    <tr>\n",
       "        <td>\n",
       "            <table style=\"border-collapse: collapse;\">\n",
       "                <thead>\n",
       "                    <tr>\n",
       "                        <td> </td>\n",
       "                        <th> Array </th>\n",
       "                        <th> Chunk </th>\n",
       "                    </tr>\n",
       "                </thead>\n",
       "                <tbody>\n",
       "                    \n",
       "                    <tr>\n",
       "                        <th> Bytes </th>\n",
       "                        <td> 558.87 GiB </td>\n",
       "                        <td> 390.82 MiB </td>\n",
       "                    </tr>\n",
       "                    \n",
       "                    <tr>\n",
       "                        <th> Shape </th>\n",
       "                        <td> (146432000, 2049) </td>\n",
       "                        <td> (100000, 2049) </td>\n",
       "                    </tr>\n",
       "                    <tr>\n",
       "                        <th> Dask graph </th>\n",
       "                        <td colspan=\"2\"> 1465 chunks in 2931 graph layers </td>\n",
       "                    </tr>\n",
       "                    <tr>\n",
       "                        <th> Data type </th>\n",
       "                        <td colspan=\"2\"> uint16 numpy.ndarray </td>\n",
       "                    </tr>\n",
       "                </tbody>\n",
       "            </table>\n",
       "        </td>\n",
       "        <td>\n",
       "        <svg width=\"75\" height=\"170\" style=\"stroke:rgb(0,0,0);stroke-width:1\" >\n",
       "\n",
       "  <!-- Horizontal lines -->\n",
       "  <line x1=\"0\" y1=\"0\" x2=\"25\" y2=\"0\" style=\"stroke-width:2\" />\n",
       "  <line x1=\"0\" y1=\"6\" x2=\"25\" y2=\"6\" />\n",
       "  <line x1=\"0\" y1=\"12\" x2=\"25\" y2=\"12\" />\n",
       "  <line x1=\"0\" y1=\"18\" x2=\"25\" y2=\"18\" />\n",
       "  <line x1=\"0\" y1=\"25\" x2=\"25\" y2=\"25\" />\n",
       "  <line x1=\"0\" y1=\"31\" x2=\"25\" y2=\"31\" />\n",
       "  <line x1=\"0\" y1=\"37\" x2=\"25\" y2=\"37\" />\n",
       "  <line x1=\"0\" y1=\"44\" x2=\"25\" y2=\"44\" />\n",
       "  <line x1=\"0\" y1=\"50\" x2=\"25\" y2=\"50\" />\n",
       "  <line x1=\"0\" y1=\"56\" x2=\"25\" y2=\"56\" />\n",
       "  <line x1=\"0\" y1=\"63\" x2=\"25\" y2=\"63\" />\n",
       "  <line x1=\"0\" y1=\"69\" x2=\"25\" y2=\"69\" />\n",
       "  <line x1=\"0\" y1=\"75\" x2=\"25\" y2=\"75\" />\n",
       "  <line x1=\"0\" y1=\"82\" x2=\"25\" y2=\"82\" />\n",
       "  <line x1=\"0\" y1=\"88\" x2=\"25\" y2=\"88\" />\n",
       "  <line x1=\"0\" y1=\"94\" x2=\"25\" y2=\"94\" />\n",
       "  <line x1=\"0\" y1=\"101\" x2=\"25\" y2=\"101\" />\n",
       "  <line x1=\"0\" y1=\"107\" x2=\"25\" y2=\"107\" />\n",
       "  <line x1=\"0\" y1=\"113\" x2=\"25\" y2=\"113\" />\n",
       "  <line x1=\"0\" y1=\"120\" x2=\"25\" y2=\"120\" style=\"stroke-width:2\" />\n",
       "\n",
       "  <!-- Vertical lines -->\n",
       "  <line x1=\"0\" y1=\"0\" x2=\"0\" y2=\"120\" style=\"stroke-width:2\" />\n",
       "  <line x1=\"25\" y1=\"0\" x2=\"25\" y2=\"120\" style=\"stroke-width:2\" />\n",
       "\n",
       "  <!-- Colored Rectangle -->\n",
       "  <polygon points=\"0.0,0.0 25.412616514582485,0.0 25.412616514582485,120.0 0.0,120.0\" style=\"fill:#8B4903A0;stroke-width:0\"/>\n",
       "\n",
       "  <!-- Text -->\n",
       "  <text x=\"12.706308\" y=\"140.000000\" font-size=\"1.0rem\" font-weight=\"100\" text-anchor=\"middle\" >2049</text>\n",
       "  <text x=\"45.412617\" y=\"60.000000\" font-size=\"1.0rem\" font-weight=\"100\" text-anchor=\"middle\" transform=\"rotate(-90,45.412617,60.000000)\">146432000</text>\n",
       "</svg>\n",
       "        </td>\n",
       "    </tr>\n",
       "</table>"
      ],
      "text/plain": [
       "dask.array<concatenate, shape=(146432000, 2049), dtype=uint16, chunksize=(100000, 2049), chunktype=numpy.ndarray>"
      ]
     },
     "execution_count": 41,
     "metadata": {},
     "output_type": "execute_result"
    }
   ],
   "source": [
    "x"
   ]
  },
  {
   "cell_type": "code",
   "execution_count": 15,
   "metadata": {},
   "outputs": [
    {
     "ename": "TypeError",
     "evalue": "gufoo() missing 1 required positional argument: 'res'",
     "output_type": "error",
     "traceback": [
      "\u001b[0;31m---------------------------------------------------------------------------\u001b[0m",
      "\u001b[0;31mTypeError\u001b[0m                                 Traceback (most recent call last)",
      "Cell \u001b[0;32mIn[15], line 15\u001b[0m\n\u001b[1;32m     11\u001b[0m                 res[j] \u001b[38;5;241m=\u001b[39m \u001b[38;5;241m1\u001b[39m\n\u001b[1;32m     14\u001b[0m y \u001b[38;5;241m=\u001b[39m gufoo(x0[\u001b[38;5;241m0\u001b[39m, :\u001b[38;5;241m5\u001b[39m], x0)\n\u001b[0;32m---> 15\u001b[0m \u001b[43my\u001b[49m\u001b[38;5;241;43m.\u001b[39;49m\u001b[43mcompute\u001b[49m\u001b[43m(\u001b[49m\u001b[43m)\u001b[49m\n",
      "File \u001b[0;32m/om2/user/sunnyd/anaconda/envs/pythia/lib/python3.10/site-packages/dask/base.py:379\u001b[0m, in \u001b[0;36mDaskMethodsMixin.compute\u001b[0;34m(self, **kwargs)\u001b[0m\n\u001b[1;32m    355\u001b[0m \u001b[38;5;28;01mdef\u001b[39;00m \u001b[38;5;21mcompute\u001b[39m(\u001b[38;5;28mself\u001b[39m, \u001b[38;5;241m*\u001b[39m\u001b[38;5;241m*\u001b[39mkwargs):\n\u001b[1;32m    356\u001b[0m \u001b[38;5;250m    \u001b[39m\u001b[38;5;124;03m\"\"\"Compute this dask collection\u001b[39;00m\n\u001b[1;32m    357\u001b[0m \n\u001b[1;32m    358\u001b[0m \u001b[38;5;124;03m    This turns a lazy Dask collection into its in-memory equivalent.\u001b[39;00m\n\u001b[0;32m   (...)\u001b[0m\n\u001b[1;32m    377\u001b[0m \u001b[38;5;124;03m    dask.compute\u001b[39;00m\n\u001b[1;32m    378\u001b[0m \u001b[38;5;124;03m    \"\"\"\u001b[39;00m\n\u001b[0;32m--> 379\u001b[0m     (result,) \u001b[38;5;241m=\u001b[39m \u001b[43mcompute\u001b[49m\u001b[43m(\u001b[49m\u001b[38;5;28;43mself\u001b[39;49m\u001b[43m,\u001b[49m\u001b[43m \u001b[49m\u001b[43mtraverse\u001b[49m\u001b[38;5;241;43m=\u001b[39;49m\u001b[38;5;28;43;01mFalse\u001b[39;49;00m\u001b[43m,\u001b[49m\u001b[43m \u001b[49m\u001b[38;5;241;43m*\u001b[39;49m\u001b[38;5;241;43m*\u001b[39;49m\u001b[43mkwargs\u001b[49m\u001b[43m)\u001b[49m\n\u001b[1;32m    380\u001b[0m     \u001b[38;5;28;01mreturn\u001b[39;00m result\n",
      "File \u001b[0;32m/om2/user/sunnyd/anaconda/envs/pythia/lib/python3.10/site-packages/dask/base.py:665\u001b[0m, in \u001b[0;36mcompute\u001b[0;34m(traverse, optimize_graph, scheduler, get, *args, **kwargs)\u001b[0m\n\u001b[1;32m    662\u001b[0m     postcomputes\u001b[38;5;241m.\u001b[39mappend(x\u001b[38;5;241m.\u001b[39m__dask_postcompute__())\n\u001b[1;32m    664\u001b[0m \u001b[38;5;28;01mwith\u001b[39;00m shorten_traceback():\n\u001b[0;32m--> 665\u001b[0m     results \u001b[38;5;241m=\u001b[39m \u001b[43mschedule\u001b[49m\u001b[43m(\u001b[49m\u001b[43mdsk\u001b[49m\u001b[43m,\u001b[49m\u001b[43m \u001b[49m\u001b[43mkeys\u001b[49m\u001b[43m,\u001b[49m\u001b[43m \u001b[49m\u001b[38;5;241;43m*\u001b[39;49m\u001b[38;5;241;43m*\u001b[39;49m\u001b[43mkwargs\u001b[49m\u001b[43m)\u001b[49m\n\u001b[1;32m    667\u001b[0m \u001b[38;5;28;01mreturn\u001b[39;00m repack([f(r, \u001b[38;5;241m*\u001b[39ma) \u001b[38;5;28;01mfor\u001b[39;00m r, (f, a) \u001b[38;5;129;01min\u001b[39;00m \u001b[38;5;28mzip\u001b[39m(results, postcomputes)])\n",
      "File \u001b[0;32m/om2/user/sunnyd/anaconda/envs/pythia/lib/python3.10/site-packages/numpy/lib/function_base.py:2329\u001b[0m, in \u001b[0;36mvectorize.__call__\u001b[0;34m(self, *args, **kwargs)\u001b[0m\n\u001b[1;32m   2326\u001b[0m     vargs \u001b[38;5;241m=\u001b[39m [args[_i] \u001b[38;5;28;01mfor\u001b[39;00m _i \u001b[38;5;129;01min\u001b[39;00m inds]\n\u001b[1;32m   2327\u001b[0m     vargs\u001b[38;5;241m.\u001b[39mextend([kwargs[_n] \u001b[38;5;28;01mfor\u001b[39;00m _n \u001b[38;5;129;01min\u001b[39;00m names])\n\u001b[0;32m-> 2329\u001b[0m \u001b[38;5;28;01mreturn\u001b[39;00m \u001b[38;5;28;43mself\u001b[39;49m\u001b[38;5;241;43m.\u001b[39;49m\u001b[43m_vectorize_call\u001b[49m\u001b[43m(\u001b[49m\u001b[43mfunc\u001b[49m\u001b[38;5;241;43m=\u001b[39;49m\u001b[43mfunc\u001b[49m\u001b[43m,\u001b[49m\u001b[43m \u001b[49m\u001b[43margs\u001b[49m\u001b[38;5;241;43m=\u001b[39;49m\u001b[43mvargs\u001b[49m\u001b[43m)\u001b[49m\n",
      "File \u001b[0;32m/om2/user/sunnyd/anaconda/envs/pythia/lib/python3.10/site-packages/numpy/lib/function_base.py:2403\u001b[0m, in \u001b[0;36mvectorize._vectorize_call\u001b[0;34m(self, func, args)\u001b[0m\n\u001b[1;32m   2401\u001b[0m \u001b[38;5;250m\u001b[39m\u001b[38;5;124;03m\"\"\"Vectorized call to `func` over positional `args`.\"\"\"\u001b[39;00m\n\u001b[1;32m   2402\u001b[0m \u001b[38;5;28;01mif\u001b[39;00m \u001b[38;5;28mself\u001b[39m\u001b[38;5;241m.\u001b[39msignature \u001b[38;5;129;01mis\u001b[39;00m \u001b[38;5;129;01mnot\u001b[39;00m \u001b[38;5;28;01mNone\u001b[39;00m:\n\u001b[0;32m-> 2403\u001b[0m     res \u001b[38;5;241m=\u001b[39m \u001b[38;5;28;43mself\u001b[39;49m\u001b[38;5;241;43m.\u001b[39;49m\u001b[43m_vectorize_call_with_signature\u001b[49m\u001b[43m(\u001b[49m\u001b[43mfunc\u001b[49m\u001b[43m,\u001b[49m\u001b[43m \u001b[49m\u001b[43margs\u001b[49m\u001b[43m)\u001b[49m\n\u001b[1;32m   2404\u001b[0m \u001b[38;5;28;01melif\u001b[39;00m \u001b[38;5;129;01mnot\u001b[39;00m args:\n\u001b[1;32m   2405\u001b[0m     res \u001b[38;5;241m=\u001b[39m func()\n",
      "File \u001b[0;32m/om2/user/sunnyd/anaconda/envs/pythia/lib/python3.10/site-packages/numpy/lib/function_base.py:2443\u001b[0m, in \u001b[0;36mvectorize._vectorize_call_with_signature\u001b[0;34m(self, func, args)\u001b[0m\n\u001b[1;32m   2440\u001b[0m nout \u001b[38;5;241m=\u001b[39m \u001b[38;5;28mlen\u001b[39m(output_core_dims)\n\u001b[1;32m   2442\u001b[0m \u001b[38;5;28;01mfor\u001b[39;00m index \u001b[38;5;129;01min\u001b[39;00m np\u001b[38;5;241m.\u001b[39mndindex(\u001b[38;5;241m*\u001b[39mbroadcast_shape):\n\u001b[0;32m-> 2443\u001b[0m     results \u001b[38;5;241m=\u001b[39m \u001b[43mfunc\u001b[49m\u001b[43m(\u001b[49m\u001b[38;5;241;43m*\u001b[39;49m\u001b[43m(\u001b[49m\u001b[43marg\u001b[49m\u001b[43m[\u001b[49m\u001b[43mindex\u001b[49m\u001b[43m]\u001b[49m\u001b[43m \u001b[49m\u001b[38;5;28;43;01mfor\u001b[39;49;00m\u001b[43m \u001b[49m\u001b[43marg\u001b[49m\u001b[43m \u001b[49m\u001b[38;5;129;43;01min\u001b[39;49;00m\u001b[43m \u001b[49m\u001b[43margs\u001b[49m\u001b[43m)\u001b[49m\u001b[43m)\u001b[49m\n\u001b[1;32m   2445\u001b[0m     n_results \u001b[38;5;241m=\u001b[39m \u001b[38;5;28mlen\u001b[39m(results) \u001b[38;5;28;01mif\u001b[39;00m \u001b[38;5;28misinstance\u001b[39m(results, \u001b[38;5;28mtuple\u001b[39m) \u001b[38;5;28;01melse\u001b[39;00m \u001b[38;5;241m1\u001b[39m\n\u001b[1;32m   2447\u001b[0m     \u001b[38;5;28;01mif\u001b[39;00m nout \u001b[38;5;241m!=\u001b[39m n_results:\n",
      "\u001b[0;31mTypeError\u001b[0m: gufoo() missing 1 required positional argument: 'res'"
     ]
    }
   ],
   "source": [
    "x0 = x[:10]\n",
    "\n",
    "x0 = np.random.randn(10, 100)\n",
    "\n",
    "def gufoo(x, y):\n",
    "    for j in range(y.shape[0]):\n",
    "        res[j] = 0\n",
    "        for i in range(y.shape[1] - x.shape[0]):\n",
    "            if np.max(np.abs(x[i:i+x.shape[0]] - y[:, i:i+x.shape[0]])) > 0:\n",
    "                res[j] = 1\n",
    "\n",
    "\n",
    "y = gufoo(x0[0, :5], x0)\n",
    "y.compute()"
   ]
  },
  {
   "cell_type": "code",
   "execution_count": 145,
   "metadata": {},
   "outputs": [
    {
     "data": {
      "text/html": [
       "<table>\n",
       "    <tr>\n",
       "        <td>\n",
       "            <table style=\"border-collapse: collapse;\">\n",
       "                <thead>\n",
       "                    <tr>\n",
       "                        <td> </td>\n",
       "                        <th> Array </th>\n",
       "                        <th> Chunk </th>\n",
       "                    </tr>\n",
       "                </thead>\n",
       "                <tbody>\n",
       "                    \n",
       "                    <tr>\n",
       "                        <th> Bytes </th>\n",
       "                        <td> 1.56 kiB </td>\n",
       "                        <td> 80 B </td>\n",
       "                    </tr>\n",
       "                    \n",
       "                    <tr>\n",
       "                        <th> Shape </th>\n",
       "                        <td> (20, 10) </td>\n",
       "                        <td> (1, 10) </td>\n",
       "                    </tr>\n",
       "                    <tr>\n",
       "                        <th> Dask graph </th>\n",
       "                        <td colspan=\"2\"> 20 chunks in 1 graph layer </td>\n",
       "                    </tr>\n",
       "                    <tr>\n",
       "                        <th> Data type </th>\n",
       "                        <td colspan=\"2\"> int64 numpy.ndarray </td>\n",
       "                    </tr>\n",
       "                </tbody>\n",
       "            </table>\n",
       "        </td>\n",
       "        <td>\n",
       "        <svg width=\"110\" height=\"170\" style=\"stroke:rgb(0,0,0);stroke-width:1\" >\n",
       "\n",
       "  <!-- Horizontal lines -->\n",
       "  <line x1=\"0\" y1=\"0\" x2=\"60\" y2=\"0\" style=\"stroke-width:2\" />\n",
       "  <line x1=\"0\" y1=\"6\" x2=\"60\" y2=\"6\" />\n",
       "  <line x1=\"0\" y1=\"12\" x2=\"60\" y2=\"12\" />\n",
       "  <line x1=\"0\" y1=\"18\" x2=\"60\" y2=\"18\" />\n",
       "  <line x1=\"0\" y1=\"24\" x2=\"60\" y2=\"24\" />\n",
       "  <line x1=\"0\" y1=\"30\" x2=\"60\" y2=\"30\" />\n",
       "  <line x1=\"0\" y1=\"36\" x2=\"60\" y2=\"36\" />\n",
       "  <line x1=\"0\" y1=\"42\" x2=\"60\" y2=\"42\" />\n",
       "  <line x1=\"0\" y1=\"48\" x2=\"60\" y2=\"48\" />\n",
       "  <line x1=\"0\" y1=\"54\" x2=\"60\" y2=\"54\" />\n",
       "  <line x1=\"0\" y1=\"60\" x2=\"60\" y2=\"60\" />\n",
       "  <line x1=\"0\" y1=\"66\" x2=\"60\" y2=\"66\" />\n",
       "  <line x1=\"0\" y1=\"72\" x2=\"60\" y2=\"72\" />\n",
       "  <line x1=\"0\" y1=\"78\" x2=\"60\" y2=\"78\" />\n",
       "  <line x1=\"0\" y1=\"84\" x2=\"60\" y2=\"84\" />\n",
       "  <line x1=\"0\" y1=\"90\" x2=\"60\" y2=\"90\" />\n",
       "  <line x1=\"0\" y1=\"96\" x2=\"60\" y2=\"96\" />\n",
       "  <line x1=\"0\" y1=\"102\" x2=\"60\" y2=\"102\" />\n",
       "  <line x1=\"0\" y1=\"108\" x2=\"60\" y2=\"108\" />\n",
       "  <line x1=\"0\" y1=\"120\" x2=\"60\" y2=\"120\" style=\"stroke-width:2\" />\n",
       "\n",
       "  <!-- Vertical lines -->\n",
       "  <line x1=\"0\" y1=\"0\" x2=\"0\" y2=\"120\" style=\"stroke-width:2\" />\n",
       "  <line x1=\"60\" y1=\"0\" x2=\"60\" y2=\"120\" style=\"stroke-width:2\" />\n",
       "\n",
       "  <!-- Colored Rectangle -->\n",
       "  <polygon points=\"0.0,0.0 60.0,0.0 60.0,120.0 0.0,120.0\" style=\"fill:#8B4903A0;stroke-width:0\"/>\n",
       "\n",
       "  <!-- Text -->\n",
       "  <text x=\"30.000000\" y=\"140.000000\" font-size=\"1.0rem\" font-weight=\"100\" text-anchor=\"middle\" >10</text>\n",
       "  <text x=\"80.000000\" y=\"60.000000\" font-size=\"1.0rem\" font-weight=\"100\" text-anchor=\"middle\" transform=\"rotate(0,80.000000,60.000000)\">20</text>\n",
       "</svg>\n",
       "        </td>\n",
       "    </tr>\n",
       "</table>"
      ],
      "text/plain": [
       "dask.array<array, shape=(20, 10), dtype=int64, chunksize=(1, 10), chunktype=numpy.ndarray>"
      ]
     },
     "execution_count": 145,
     "metadata": {},
     "output_type": "execute_result"
    }
   ],
   "source": [
    "x1"
   ]
  },
  {
   "cell_type": "code",
   "execution_count": 142,
   "metadata": {},
   "outputs": [
    {
     "name": "stderr",
     "output_type": "stream",
     "text": [
      "/tmp/ipykernel_3074442/2057689032.py:1: PerformanceWarning: Increasing number of chunks by factor of 20\n",
      "  da.blockwise(match, 'ij', x0, 'ia', x1, 'jb', dtype=bool).compute()\n"
     ]
    },
    {
     "ename": "AttributeError",
     "evalue": "'list' object has no attribute 'reshape'",
     "output_type": "error",
     "traceback": [
      "\u001b[0;31m---------------------------------------------------------------------------\u001b[0m",
      "\u001b[0;31mAttributeError\u001b[0m                            Traceback (most recent call last)",
      "Cell \u001b[0;32mIn[142], line 1\u001b[0m\n\u001b[0;32m----> 1\u001b[0m \u001b[43mda\u001b[49m\u001b[38;5;241;43m.\u001b[39;49m\u001b[43mblockwise\u001b[49m\u001b[43m(\u001b[49m\u001b[43mmatch\u001b[49m\u001b[43m,\u001b[49m\u001b[43m \u001b[49m\u001b[38;5;124;43m'\u001b[39;49m\u001b[38;5;124;43mij\u001b[39;49m\u001b[38;5;124;43m'\u001b[39;49m\u001b[43m,\u001b[49m\u001b[43m \u001b[49m\u001b[43mx0\u001b[49m\u001b[43m,\u001b[49m\u001b[43m \u001b[49m\u001b[38;5;124;43m'\u001b[39;49m\u001b[38;5;124;43mia\u001b[39;49m\u001b[38;5;124;43m'\u001b[39;49m\u001b[43m,\u001b[49m\u001b[43m \u001b[49m\u001b[43mx1\u001b[49m\u001b[43m,\u001b[49m\u001b[43m \u001b[49m\u001b[38;5;124;43m'\u001b[39;49m\u001b[38;5;124;43mjb\u001b[39;49m\u001b[38;5;124;43m'\u001b[39;49m\u001b[43m,\u001b[49m\u001b[43m \u001b[49m\u001b[43mdtype\u001b[49m\u001b[38;5;241;43m=\u001b[39;49m\u001b[38;5;28;43mbool\u001b[39;49m\u001b[43m)\u001b[49m\u001b[38;5;241;43m.\u001b[39;49m\u001b[43mcompute\u001b[49m\u001b[43m(\u001b[49m\u001b[43m)\u001b[49m\n\u001b[1;32m      2\u001b[0m \u001b[38;5;66;03m# x\u001b[39;00m\n\u001b[1;32m      3\u001b[0m \u001b[38;5;66;03m# da.map_blocks(\u001b[39;00m\n\u001b[1;32m      4\u001b[0m \u001b[38;5;66;03m#     match,\u001b[39;00m\n\u001b[0;32m   (...)\u001b[0m\n\u001b[1;32m      7\u001b[0m \u001b[38;5;66;03m#     dtype=bool\u001b[39;00m\n\u001b[1;32m      8\u001b[0m \u001b[38;5;66;03m# ).compute()\u001b[39;00m\n",
      "File \u001b[0;32m/om2/user/sunnyd/anaconda/envs/pythia/lib/python3.10/site-packages/dask/base.py:379\u001b[0m, in \u001b[0;36mDaskMethodsMixin.compute\u001b[0;34m(self, **kwargs)\u001b[0m\n\u001b[1;32m    355\u001b[0m \u001b[38;5;28;01mdef\u001b[39;00m \u001b[38;5;21mcompute\u001b[39m(\u001b[38;5;28mself\u001b[39m, \u001b[38;5;241m*\u001b[39m\u001b[38;5;241m*\u001b[39mkwargs):\n\u001b[1;32m    356\u001b[0m \u001b[38;5;250m    \u001b[39m\u001b[38;5;124;03m\"\"\"Compute this dask collection\u001b[39;00m\n\u001b[1;32m    357\u001b[0m \n\u001b[1;32m    358\u001b[0m \u001b[38;5;124;03m    This turns a lazy Dask collection into its in-memory equivalent.\u001b[39;00m\n\u001b[0;32m   (...)\u001b[0m\n\u001b[1;32m    377\u001b[0m \u001b[38;5;124;03m    dask.compute\u001b[39;00m\n\u001b[1;32m    378\u001b[0m \u001b[38;5;124;03m    \"\"\"\u001b[39;00m\n\u001b[0;32m--> 379\u001b[0m     (result,) \u001b[38;5;241m=\u001b[39m \u001b[43mcompute\u001b[49m\u001b[43m(\u001b[49m\u001b[38;5;28;43mself\u001b[39;49m\u001b[43m,\u001b[49m\u001b[43m \u001b[49m\u001b[43mtraverse\u001b[49m\u001b[38;5;241;43m=\u001b[39;49m\u001b[38;5;28;43;01mFalse\u001b[39;49;00m\u001b[43m,\u001b[49m\u001b[43m \u001b[49m\u001b[38;5;241;43m*\u001b[39;49m\u001b[38;5;241;43m*\u001b[39;49m\u001b[43mkwargs\u001b[49m\u001b[43m)\u001b[49m\n\u001b[1;32m    380\u001b[0m     \u001b[38;5;28;01mreturn\u001b[39;00m result\n",
      "File \u001b[0;32m/om2/user/sunnyd/anaconda/envs/pythia/lib/python3.10/site-packages/dask/base.py:665\u001b[0m, in \u001b[0;36mcompute\u001b[0;34m(traverse, optimize_graph, scheduler, get, *args, **kwargs)\u001b[0m\n\u001b[1;32m    662\u001b[0m     postcomputes\u001b[38;5;241m.\u001b[39mappend(x\u001b[38;5;241m.\u001b[39m__dask_postcompute__())\n\u001b[1;32m    664\u001b[0m \u001b[38;5;28;01mwith\u001b[39;00m shorten_traceback():\n\u001b[0;32m--> 665\u001b[0m     results \u001b[38;5;241m=\u001b[39m \u001b[43mschedule\u001b[49m\u001b[43m(\u001b[49m\u001b[43mdsk\u001b[49m\u001b[43m,\u001b[49m\u001b[43m \u001b[49m\u001b[43mkeys\u001b[49m\u001b[43m,\u001b[49m\u001b[43m \u001b[49m\u001b[38;5;241;43m*\u001b[39;49m\u001b[38;5;241;43m*\u001b[39;49m\u001b[43mkwargs\u001b[49m\u001b[43m)\u001b[49m\n\u001b[1;32m    667\u001b[0m \u001b[38;5;28;01mreturn\u001b[39;00m repack([f(r, \u001b[38;5;241m*\u001b[39ma) \u001b[38;5;28;01mfor\u001b[39;00m r, (f, a) \u001b[38;5;129;01min\u001b[39;00m \u001b[38;5;28mzip\u001b[39m(results, postcomputes)])\n",
      "Cell \u001b[0;32mIn[139], line 5\u001b[0m, in \u001b[0;36mmatch\u001b[0;34m(a, b)\u001b[0m\n\u001b[1;32m      4\u001b[0m \u001b[38;5;28;01mdef\u001b[39;00m \u001b[38;5;21mmatch\u001b[39m(a, b):\n\u001b[0;32m----> 5\u001b[0m     \u001b[38;5;28;01mreturn\u001b[39;00m \u001b[43m(\u001b[49m\u001b[43ma\u001b[49m\u001b[43m \u001b[49m\u001b[38;5;241;43m+\u001b[39;49m\u001b[43m \u001b[49m\u001b[43mb\u001b[49m\u001b[43m)\u001b[49m\u001b[38;5;241;43m.\u001b[39;49m\u001b[43mreshape\u001b[49m(\u001b[38;5;241m1\u001b[39m, \u001b[38;5;241m1\u001b[39m)\n\u001b[1;32m      6\u001b[0m     \u001b[38;5;66;03m# for i in range(b.shape[1] - a.shape[1]):\u001b[39;00m\n\u001b[1;32m      7\u001b[0m     \u001b[38;5;28;01mfor\u001b[39;00m i \u001b[38;5;129;01min\u001b[39;00m \u001b[38;5;28mrange\u001b[39m(\u001b[38;5;241m20\u001b[39m):\n",
      "\u001b[0;31mAttributeError\u001b[0m: 'list' object has no attribute 'reshape'"
     ]
    }
   ],
   "source": [
    "# x\n",
    "# da.map_blocks(\n",
    "#     match,\n",
    "#     x0,\n",
    "#     x1,\n",
    "#     dtype=bool\n",
    "# ).compute()"
   ]
  },
  {
   "cell_type": "code",
   "execution_count": 130,
   "metadata": {},
   "outputs": [
    {
     "data": {
      "text/plain": [
       "array([[3, 4],\n",
       "       [5, 6]])"
      ]
     },
     "execution_count": 130,
     "metadata": {},
     "output_type": "execute_result"
    }
   ],
   "source": [
    "x = da.from_array([[1, 2],\n",
    "                   [3, 4]], chunks=(1, 2))\n",
    "y = da.from_array([[10, 20],\n",
    "                   [0, 0]])\n",
    "z = da.blockwise(lambda x, y: x + y.shape[0], 'ij', x, 'ij', y, 'ji', dtype='f8')\n",
    "z.compute()"
   ]
  },
  {
   "cell_type": "code",
   "execution_count": 112,
   "metadata": {},
   "outputs": [
    {
     "ename": "TypeError",
     "evalue": "unsupported operand type(s) for %: 'list' and 'list'",
     "output_type": "error",
     "traceback": [
      "\u001b[0;31m---------------------------------------------------------------------------\u001b[0m",
      "\u001b[0;31mTypeError\u001b[0m                                 Traceback (most recent call last)",
      "Cell \u001b[0;32mIn[112], line 2\u001b[0m\n\u001b[1;32m      1\u001b[0m \u001b[38;5;28;01mimport\u001b[39;00m \u001b[38;5;21;01moperator\u001b[39;00m\n\u001b[0;32m----> 2\u001b[0m \u001b[43moperator\u001b[49m\u001b[38;5;241;43m.\u001b[39;49m\u001b[43mmod\u001b[49m\u001b[43m(\u001b[49m\u001b[43m[\u001b[49m\u001b[43m]\u001b[49m\u001b[43m,\u001b[49m\u001b[43m \u001b[49m\u001b[43m[\u001b[49m\u001b[43m]\u001b[49m\u001b[43m)\u001b[49m\n",
      "\u001b[0;31mTypeError\u001b[0m: unsupported operand type(s) for %: 'list' and 'list'"
     ]
    }
   ],
   "source": [
    "import operator\n",
    "operator.mod([], [])"
   ]
  },
  {
   "cell_type": "code",
   "execution_count": 124,
   "metadata": {},
   "outputs": [
    {
     "name": "stdout",
     "output_type": "stream",
     "text": [
      "<class 'numpy.ndarray'> (0,)\n"
     ]
    },
    {
     "data": {
      "text/plain": [
       "array([[ -10,  -50, -100],\n",
       "       [  -9,  -49,  -99],\n",
       "       [  -8,  -48,  -98]])"
      ]
     },
     "execution_count": 124,
     "metadata": {},
     "output_type": "execute_result"
    }
   ],
   "source": [
    "a = da.from_array([0, 1, 2], chunks=1)\n",
    "b = da.from_array([10, 50, 100], chunks=1)\n",
    "def outer1(a, b):\n",
    "    print(type(a), b.shape)\n",
    "    return (a - b).reshape(1, 1)\n",
    "    # print(a, b)\n",
    "    # print(np.outer(a, b))\n",
    "    # return np.outer(a, b)\n",
    "    if a.size ==  0:\n",
    "       return np.outer(a, b)\n",
    "    else:\n",
    "        print(\"hi\")\n",
    "    print(np.product(a, b))\n",
    "    return np.product(a, b)\n",
    "z = da.blockwise(outer1, 'ij', a, 'i', b, 'j', dtype='f8')\n",
    "z.compute()"
   ]
  },
  {
   "cell_type": "code",
   "execution_count": 28,
   "metadata": {},
   "outputs": [
    {
     "name": "stdout",
     "output_type": "stream",
     "text": [
      "float64\n"
     ]
    },
    {
     "ename": "ValueError",
     "evalue": "axes don't match array",
     "output_type": "error",
     "traceback": [
      "\u001b[0;31m---------------------------------------------------------------------------\u001b[0m",
      "\u001b[0;31mValueError\u001b[0m                                Traceback (most recent call last)",
      "Cell \u001b[0;32mIn[28], line 13\u001b[0m\n\u001b[1;32m     10\u001b[0m \u001b[38;5;28mprint\u001b[39m(array1\u001b[38;5;241m.\u001b[39mdtype)\n\u001b[1;32m     12\u001b[0m \u001b[38;5;66;03m# Execute the gufunc\u001b[39;00m\n\u001b[0;32m---> 13\u001b[0m result \u001b[38;5;241m=\u001b[39m \u001b[43madd_gufunc\u001b[49m\u001b[43m(\u001b[49m\u001b[43marray1\u001b[49m\u001b[43m,\u001b[49m\u001b[43m \u001b[49m\u001b[43marray2\u001b[49m\u001b[43m)\u001b[49m\n\u001b[1;32m     15\u001b[0m \u001b[38;5;66;03m# Calculate the result asynchronously (optional)\u001b[39;00m\n\u001b[1;32m     16\u001b[0m result \u001b[38;5;241m=\u001b[39m result\u001b[38;5;241m.\u001b[39mcompute()\n",
      "File \u001b[0;32m/om2/user/sunnyd/anaconda/envs/pythia/lib/python3.10/site-packages/dask/array/gufunc.py:676\u001b[0m, in \u001b[0;36mgufunc.__call__\u001b[0;34m(self, allow_rechunk, *args, **kwargs)\u001b[0m\n\u001b[1;32m    675\u001b[0m \u001b[38;5;28;01mdef\u001b[39;00m \u001b[38;5;21m__call__\u001b[39m(\u001b[38;5;28mself\u001b[39m, \u001b[38;5;241m*\u001b[39margs, allow_rechunk\u001b[38;5;241m=\u001b[39m\u001b[38;5;28;01mFalse\u001b[39;00m, \u001b[38;5;241m*\u001b[39m\u001b[38;5;241m*\u001b[39mkwargs):\n\u001b[0;32m--> 676\u001b[0m     \u001b[38;5;28;01mreturn\u001b[39;00m \u001b[43mapply_gufunc\u001b[49m\u001b[43m(\u001b[49m\n\u001b[1;32m    677\u001b[0m \u001b[43m        \u001b[49m\u001b[38;5;28;43mself\u001b[39;49m\u001b[38;5;241;43m.\u001b[39;49m\u001b[43mpyfunc\u001b[49m\u001b[43m,\u001b[49m\n\u001b[1;32m    678\u001b[0m \u001b[43m        \u001b[49m\u001b[38;5;28;43mself\u001b[39;49m\u001b[38;5;241;43m.\u001b[39;49m\u001b[43msignature\u001b[49m\u001b[43m,\u001b[49m\n\u001b[1;32m    679\u001b[0m \u001b[43m        \u001b[49m\u001b[38;5;241;43m*\u001b[39;49m\u001b[43margs\u001b[49m\u001b[43m,\u001b[49m\n\u001b[1;32m    680\u001b[0m \u001b[43m        \u001b[49m\u001b[43mvectorize\u001b[49m\u001b[38;5;241;43m=\u001b[39;49m\u001b[38;5;28;43mself\u001b[39;49m\u001b[38;5;241;43m.\u001b[39;49m\u001b[43mvectorize\u001b[49m\u001b[43m,\u001b[49m\n\u001b[1;32m    681\u001b[0m \u001b[43m        \u001b[49m\u001b[43maxes\u001b[49m\u001b[38;5;241;43m=\u001b[39;49m\u001b[38;5;28;43mself\u001b[39;49m\u001b[38;5;241;43m.\u001b[39;49m\u001b[43maxes\u001b[49m\u001b[43m,\u001b[49m\n\u001b[1;32m    682\u001b[0m \u001b[43m        \u001b[49m\u001b[43maxis\u001b[49m\u001b[38;5;241;43m=\u001b[39;49m\u001b[38;5;28;43mself\u001b[39;49m\u001b[38;5;241;43m.\u001b[39;49m\u001b[43maxis\u001b[49m\u001b[43m,\u001b[49m\n\u001b[1;32m    683\u001b[0m \u001b[43m        \u001b[49m\u001b[43mkeepdims\u001b[49m\u001b[38;5;241;43m=\u001b[39;49m\u001b[38;5;28;43mself\u001b[39;49m\u001b[38;5;241;43m.\u001b[39;49m\u001b[43mkeepdims\u001b[49m\u001b[43m,\u001b[49m\n\u001b[1;32m    684\u001b[0m \u001b[43m        \u001b[49m\u001b[43moutput_sizes\u001b[49m\u001b[38;5;241;43m=\u001b[39;49m\u001b[38;5;28;43mself\u001b[39;49m\u001b[38;5;241;43m.\u001b[39;49m\u001b[43moutput_sizes\u001b[49m\u001b[43m,\u001b[49m\n\u001b[1;32m    685\u001b[0m \u001b[43m        \u001b[49m\u001b[43moutput_dtypes\u001b[49m\u001b[38;5;241;43m=\u001b[39;49m\u001b[38;5;28;43mself\u001b[39;49m\u001b[38;5;241;43m.\u001b[39;49m\u001b[43moutput_dtypes\u001b[49m\u001b[43m,\u001b[49m\n\u001b[1;32m    686\u001b[0m \u001b[43m        \u001b[49m\u001b[43mallow_rechunk\u001b[49m\u001b[38;5;241;43m=\u001b[39;49m\u001b[38;5;28;43mself\u001b[39;49m\u001b[38;5;241;43m.\u001b[39;49m\u001b[43mallow_rechunk\u001b[49m\u001b[43m \u001b[49m\u001b[38;5;129;43;01mor\u001b[39;49;00m\u001b[43m \u001b[49m\u001b[43mallow_rechunk\u001b[49m\u001b[43m,\u001b[49m\n\u001b[1;32m    687\u001b[0m \u001b[43m        \u001b[49m\u001b[43mmeta\u001b[49m\u001b[38;5;241;43m=\u001b[39;49m\u001b[38;5;28;43mself\u001b[39;49m\u001b[38;5;241;43m.\u001b[39;49m\u001b[43mmeta\u001b[49m\u001b[43m,\u001b[49m\n\u001b[1;32m    688\u001b[0m \u001b[43m        \u001b[49m\u001b[38;5;241;43m*\u001b[39;49m\u001b[38;5;241;43m*\u001b[39;49m\u001b[43mkwargs\u001b[49m\u001b[43m,\u001b[49m\n\u001b[1;32m    689\u001b[0m \u001b[43m    \u001b[49m\u001b[43m)\u001b[49m\n",
      "File \u001b[0;32m/om2/user/sunnyd/anaconda/envs/pythia/lib/python3.10/site-packages/dask/array/gufunc.py:391\u001b[0m, in \u001b[0;36mapply_gufunc\u001b[0;34m(func, signature, axes, axis, keepdims, output_dtypes, output_sizes, vectorize, allow_rechunk, meta, *args, **kwargs)\u001b[0m\n\u001b[1;32m    389\u001b[0m     iax \u001b[38;5;241m=\u001b[39m \u001b[38;5;28mtuple\u001b[39m(a \u001b[38;5;28;01mif\u001b[39;00m a \u001b[38;5;241m<\u001b[39m \u001b[38;5;241m0\u001b[39m \u001b[38;5;28;01melse\u001b[39;00m a \u001b[38;5;241m-\u001b[39m \u001b[38;5;28mlen\u001b[39m(shape) \u001b[38;5;28;01mfor\u001b[39;00m a \u001b[38;5;129;01min\u001b[39;00m iax)\n\u001b[1;32m    390\u001b[0m     tidc \u001b[38;5;241m=\u001b[39m \u001b[38;5;28mtuple\u001b[39m(i \u001b[38;5;28;01mfor\u001b[39;00m i \u001b[38;5;129;01min\u001b[39;00m \u001b[38;5;28mrange\u001b[39m(\u001b[38;5;241m-\u001b[39m\u001b[38;5;28mlen\u001b[39m(shape) \u001b[38;5;241m+\u001b[39m \u001b[38;5;241m0\u001b[39m, \u001b[38;5;241m0\u001b[39m) \u001b[38;5;28;01mif\u001b[39;00m i \u001b[38;5;129;01mnot\u001b[39;00m \u001b[38;5;129;01min\u001b[39;00m iax) \u001b[38;5;241m+\u001b[39m iax\n\u001b[0;32m--> 391\u001b[0m     transposed_arg \u001b[38;5;241m=\u001b[39m \u001b[43marg\u001b[49m\u001b[38;5;241;43m.\u001b[39;49m\u001b[43mtranspose\u001b[49m\u001b[43m(\u001b[49m\u001b[43mtidc\u001b[49m\u001b[43m)\u001b[49m\n\u001b[1;32m    392\u001b[0m     transposed_args\u001b[38;5;241m.\u001b[39mappend(transposed_arg)\n\u001b[1;32m    393\u001b[0m args \u001b[38;5;241m=\u001b[39m transposed_args\n",
      "File \u001b[0;32m/om2/user/sunnyd/anaconda/envs/pythia/lib/python3.10/site-packages/dask/array/core.py:2176\u001b[0m, in \u001b[0;36mArray.transpose\u001b[0;34m(self, *axes)\u001b[0m\n\u001b[1;32m   2174\u001b[0m     \u001b[38;5;28;01mreturn\u001b[39;00m \u001b[38;5;28mself\u001b[39m\n\u001b[1;32m   2175\u001b[0m \u001b[38;5;28;01melse\u001b[39;00m:\n\u001b[0;32m-> 2176\u001b[0m     \u001b[38;5;28;01mreturn\u001b[39;00m \u001b[43mtranspose\u001b[49m\u001b[43m(\u001b[49m\u001b[38;5;28;43mself\u001b[39;49m\u001b[43m,\u001b[49m\u001b[43m \u001b[49m\u001b[43maxes\u001b[49m\u001b[38;5;241;43m=\u001b[39;49m\u001b[43maxes\u001b[49m\u001b[43m)\u001b[49m\n",
      "File \u001b[0;32m/om2/user/sunnyd/anaconda/envs/pythia/lib/python3.10/site-packages/dask/array/routines.py:181\u001b[0m, in \u001b[0;36mtranspose\u001b[0;34m(a, axes)\u001b[0m\n\u001b[1;32m    179\u001b[0m \u001b[38;5;28;01mif\u001b[39;00m axes:\n\u001b[1;32m    180\u001b[0m     \u001b[38;5;28;01mif\u001b[39;00m \u001b[38;5;28mlen\u001b[39m(axes) \u001b[38;5;241m!=\u001b[39m a\u001b[38;5;241m.\u001b[39mndim:\n\u001b[0;32m--> 181\u001b[0m         \u001b[38;5;28;01mraise\u001b[39;00m \u001b[38;5;167;01mValueError\u001b[39;00m(\u001b[38;5;124m\"\u001b[39m\u001b[38;5;124maxes don\u001b[39m\u001b[38;5;124m'\u001b[39m\u001b[38;5;124mt match array\u001b[39m\u001b[38;5;124m\"\u001b[39m)\n\u001b[1;32m    182\u001b[0m     axes \u001b[38;5;241m=\u001b[39m \u001b[38;5;28mtuple\u001b[39m(d \u001b[38;5;241m+\u001b[39m a\u001b[38;5;241m.\u001b[39mndim \u001b[38;5;28;01mif\u001b[39;00m d \u001b[38;5;241m<\u001b[39m \u001b[38;5;241m0\u001b[39m \u001b[38;5;28;01melse\u001b[39;00m d \u001b[38;5;28;01mfor\u001b[39;00m d \u001b[38;5;129;01min\u001b[39;00m axes)\n\u001b[1;32m    183\u001b[0m \u001b[38;5;28;01melse\u001b[39;00m:\n",
      "\u001b[0;31mValueError\u001b[0m: axes don't match array"
     ]
    }
   ],
   "source": [
    "import dask.array as da\n",
    "\n",
    "def add_arrays(a, b, out):\n",
    "  # Perform element-wise addition\n",
    "  out[:] = a + b\n",
    "\n",
    "add_gufunc = da.gufunc(add_arrays, signature=\"(m,n),(m,n)->(m,n)\", output_dtypes=float)\n",
    "array1 = da.random.random(5, 5)\n",
    "array2 = da.random.random(5, 5)\n",
    "print(array1.dtype)\n",
    "\n",
    "# Execute the gufunc\n",
    "result = add_gufunc(array1, array2)\n",
    "\n",
    "# Calculate the result asynchronously (optional)\n",
    "result = result.compute()"
   ]
  },
  {
   "cell_type": "code",
   "execution_count": null,
   "metadata": {},
   "outputs": [],
   "source": []
  },
  {
   "cell_type": "code",
   "execution_count": 17,
   "metadata": {},
   "outputs": [
    {
     "data": {
      "text/plain": [
       "146432000"
      ]
     },
     "execution_count": 17,
     "metadata": {},
     "output_type": "execute_result"
    }
   ],
   "source": [
    "len(dataset)"
   ]
  },
  {
   "cell_type": "markdown",
   "metadata": {},
   "source": [
    "## TODO:\n",
    "1. Find a way to convert back to natural text\n",
    "2. Load data into dask\n"
   ]
  },
  {
   "cell_type": "code",
   "execution_count": 19,
   "metadata": {},
   "outputs": [
    {
     "data": {
      "application/vnd.jupyter.widget-view+json": {
       "model_id": "390181fde0864361855471dfe5f756c0",
       "version_major": 2,
       "version_minor": 0
      },
      "text/plain": [
       "tokenizer_config.json:   0%|          | 0.00/396 [00:00<?, ?B/s]"
      ]
     },
     "metadata": {},
     "output_type": "display_data"
    },
    {
     "data": {
      "application/vnd.jupyter.widget-view+json": {
       "model_id": "4d477526e6d94f9ba002bc245a5d2d6f",
       "version_major": 2,
       "version_minor": 0
      },
      "text/plain": [
       "tokenizer.json:   0%|          | 0.00/2.11M [00:00<?, ?B/s]"
      ]
     },
     "metadata": {},
     "output_type": "display_data"
    },
    {
     "data": {
      "application/vnd.jupyter.widget-view+json": {
       "model_id": "fde02766470546b5bf816d88f026f634",
       "version_major": 2,
       "version_minor": 0
      },
      "text/plain": [
       "special_tokens_map.json:   0%|          | 0.00/99.0 [00:00<?, ?B/s]"
      ]
     },
     "metadata": {},
     "output_type": "display_data"
    },
    {
     "name": "stderr",
     "output_type": "stream",
     "text": [
      "Special tokens have been added in the vocabulary, make sure the associated word embeddings are fine-tuned or trained.\n"
     ]
    }
   ],
   "source": [
    "tokenizer = AutoTokenizer.from_pretrained(\n",
    "  \"EleutherAI/pythia-70m-deduped\",\n",
    "  revision=\"step3000\",\n",
    "  cache_dir=\"/om/user/sunnyd/transformers_cache\",\n",
    ")\n",
    "\n",
    "inputs = tokenizer(\"Hello, I am\", return_tensors=\"pt\")\n",
    "# tokens = model.generate(**inputs)\n",
    "# tokenizer.decode(tokens[0])"
   ]
  },
  {
   "cell_type": "code",
   "execution_count": 23,
   "metadata": {},
   "outputs": [
    {
     "data": {
      "text/plain": [
       "'\\nThe rocking Südtribüne, a charismatic coach with his shoestring team, spearheaded by their cherubic talisman. Borussia Dortmund had well and truly shaken Bavaria, in a time where oligarchs and billionaire investors are dictating the<|endoftext|>Kim Cheong-gi\\n\\nKim Cheong-gi (born April 4, 1941) is a South Korean director of animated, fantasy, and science fiction films.\\n\\nHis work, Space Gundam V (1983), is considered one of the milestones of Korean animation of the 1980s. With actor Shim Hyung-rae, he created the Ureme series, one of the more popular Korean children\\'s series of the late 1980s.\\n\\nPartial filmography \\nRobot Taekwon V (animated) (1976)\\nRobot Taekwon V 3 (로보트 태권 V 3탄: 수중특공대) (animated) (1977)\\nGolden Wing 123 (황금날개 123) (animated) (1978)\\nRun, Wonder Princess! (날아라 원더공주) (1978)\\nTale of Three Kingdoms (삼국지) (animated) (1980)\\nSuper Taekwon V (수퍼 태권브이) (animated) (1982)\\nWuroemae from the Outside (우뢰매 = \\'Wuroemae,\\' or \\'Ureme,\\' \\'Uremae,\\' \\'Uroi-mae,\\' etc.) (외계에서 온 우뢰매) (1986)\\nSpace Gundam V (animated) (1983)\\nWuroemae from the Outside, Part II (1986)\\nOperation of Alien Uremae  (1987)\\nWuroemae 4: Thunder V Operation  (1987)\\nRobot Taekwon V and Golden Wing 123  (animated)\\nSuper Hong Gil-Dong (슈퍼 홍길동) (1987)\\nNew Machine Uremae 5 (1988)\\nGuru Kong-cho and Super Hong Kil-Dong 2 (공초도사와 슈퍼 홍길동 제2탄) (1988)\\nBioman (바이오맨) (1989)\\nThe Third Generation Uremae 6 (1989)\\nSuper Hong Kil-Dong 3 (슈퍼 홍길동 3) (1989)\\nSamtos and Daengki Ddoli (삼토스와 댕기똘이) (1990)\\nRobot Tae Kwon V 90 (로보트 태권브이 90) (1990)\\nUreme 7: The Return of Ureme Ulemae 7: Dolaon Ulemae (1992)\\nGag Unit Robot Twins (개그특공대 로봇트윈스) (1993)\\nUreme 8 (1993)\\nQueen Esther (왕후 에스더) (1996)\\nLim Keok Jeon, Korean Robin Hood (의적 임꺽정) (1997)\\nKwanggeto Taewang (The Great Emperor) (animated) (2004)\\n\\nReferences\\n\\'Hangook Manhwa\\' (한국 만화) at Korean Wikipedia\\nKim Cheong-Gi at Asiandb\\n김청기 at Yahoo! Korea (in Korean)\\n\\nExternal links\\nThe Great Emperor website\\n\\n Extensive interview can be found at www.korazy.com.au korazy.com.au\\nKim Cheong-Gi\\'s The Great Emperor at www.twitchfilm.net\\n \\xa0General information about 김청기 at the KMDb\\n\\nCategory:1941 births\\nCategory:Living people\\nCategory:South Korean film directors\\nCategory:South Korean animated film directors\\nCategory:South Korean animators<|endoftext|>Sexual orientation and suicidal behaviour in young people.\\nLesbian, gay, and bisexual (LGB) young people have been found to be at greater risk of suicidal behaviour. National prevention strategies have identified the need to reduce suicide risk in this population. However, research on specific risk factors for LGB young people that might inform suicide prevention programmes are at an early stage of development.<|endoftext|>Introduction {#Sec1}\\n============\\n\\nThe early endosome (EE) is an organelle in the endocytic pathway in filamentous fungi that is constantly moved along the microtubule (MT) by two motor proteins, kinesin and dynein^[@CR1]^. The molecular mechanisms underlying how EEs exhibit motility have been intensely investigated in the model filamentous fungi *Ustilago maydis* and *Aspergillus nidulans* ^[@CR2],[@CR3]^. The motility of filamentous fungal EEs was first visualized in *U. maydis* with Yup1, a soluble *N*-ethylmaleimide-sensitive factor attachment protein receptor (SNARE), in cells that were also stained with the endocytic marker dye FM4-64^[@CR4]^. Subsequent studies have characterized the EE-specific small GTPase Rab5 in several filamentous fungi^[@CR5]--[@CR7]^. Rab5-positive EEs move along bipolar MT arrays: movement to the plus-ends is mediated by kinesin-3, whereas that to the minus-ends is mediated by dynein, which enables long-range EE motility throughout the hyphal cell^[@CR8]^.\\n\\nBecause motor proteins driven by ATPase activity support constant EE motility, cells constitutively consume an abundance of energy. Therefore, it has been speculated that EE motility is likely to have versatile physiological roles in living cells. Analyses in *U. maydis* have revealed that EE motility supports the \"hitchhiking\" of certain molecules, such as septin mRNAs and ribosomes^[@CR9],[@CR10]^. Moreover, not only molecules but also organelles, such as peroxisomes (POs) and lipid droplets (LDs), can hitchhike via EE motility^[@CR11],[@CR12]^. Furthermore, it has been suggested that EEs can transduce pathogenic cues from the infecting hyphal tip to the nucleus^[@CR13]^. Thus, constantly moving EEs indeed have several biological roles. As a result, there might be as yet unidentified roles of EE motility in other filamentous fungi.\\n\\nRecently, Hook, a linker protein between EEs and motor proteins, has been identified together with accessory proteins FHIP and FTS in both *U. maydis* and *A. nidulans* ^[@CR14]--[@CR16]^. When Hook is deleted, EE motility is abolished and the distribution of other organelles is also impaired: for example, POs and LDs accumulate at the hyphal tip, whereas endoplasmic reticulum (ER) is partially retracted to the basal region^[@CR11]^. In *A. nidulans*, a linker protein, PxdA, that connects EEs and POs has also been identified^[@CR17]^. The apical accumulation of POs and LDs in the absence of Hook can be explained by polar drift caused by the myosin motor^[@CR18]^; however, the reason for ER retraction in the absence of EE motility is not clear. Furthermore, there are no detailed analyses of whether protein secretion is related to EE motility.\\n\\nIn this study, we have investigated the physiological roles of EE motility in *Aspergillus oryzae*, an industrially important fungus due to its property of abundant enzymatic protein secretion. By analyzing the disruptant of *Aohok1*, which encodes an ortholog of Hook, we confirmed that Δ*Aohok1* cells showed the same phenotypes of EE and PO distribution as observed in disruptants of *U. maydis* and *A. nidulans*. We further revealed that, without EE motility, formation of the apical secretory vesicle cluster Spitzenkörper was impaired, although the distributions of two other secretory organelles (ER and Golgi) were not affected. Moreover, we found that the transcript and protein levels of the *A. oryzae* major secretory protein α-amylase were significantly reduced in the absence of EE motility. Lastly, a lack of EE motility induced perturbation of conidial and sclerotial formations. Taken together, these results suggest that EE motility is crucial for abundant α-amylase production and proper cell differentiation in *A. oryzae*.\\n\\nResults {#Sec2}\\n=======\\n\\nCharacterization of *A. oryzae* EEs {#Sec3}\\n-----------------------------------\\n\\nTo visualize the motility of EEs in *A. oryzae*, we first tried to establish an EE marker protein. In other model filamentous fungi, homologs of the small GTPase Rab5, which preferentially binds to EE membrane in its GTP form, have been characterized^[@CR5]--[@CR7]^. Thus, we conducted a BLAST search using these Rab5 homologs and identified a sole Rab5 homolog in *A. oryzae*, named AoRab5 (AO090003000619; Fig.\\xa0[1A](#Fig1){ref-type=\"fig\"}). An'"
      ]
     },
     "execution_count": 23,
     "metadata": {},
     "output_type": "execute_result"
    }
   ],
   "source": [
    "tokenizer.decode(dataset[15])"
   ]
  },
  {
   "cell_type": "code",
   "execution_count": null,
   "metadata": {},
   "outputs": [],
   "source": []
  }
 ],
 "metadata": {
  "kernelspec": {
   "display_name": "pythia",
   "language": "python",
   "name": "python3"
  },
  "language_info": {
   "codemirror_mode": {
    "name": "ipython",
    "version": 3
   },
   "file_extension": ".py",
   "mimetype": "text/x-python",
   "name": "python",
   "nbconvert_exporter": "python",
   "pygments_lexer": "ipython3",
   "version": "3.10.13"
  }
 },
 "nbformat": 4,
 "nbformat_minor": 2
}
